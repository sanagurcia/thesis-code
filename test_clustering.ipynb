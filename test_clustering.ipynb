{
 "cells": [
  {
   "cell_type": "code",
   "execution_count": 1,
   "id": "6e6f1cd7",
   "metadata": {},
   "outputs": [],
   "source": [
    "import numpy as np\n",
    "import mykmeans\n",
    "import ucrdata\n",
    "import matplotlib.pyplot as plt\n",
    "%matplotlib inline"
   ]
  },
  {
   "cell_type": "code",
   "execution_count": 2,
   "id": "1fda2ca6",
   "metadata": {},
   "outputs": [],
   "source": [
    "words = '50words/50words_TEST' # 50 classes\n",
    "italy = 'ItalyPowerDemand/ItalyPowerDemand_TRAIN' # 2 classes"
   ]
  },
  {
   "cell_type": "code",
   "execution_count": 6,
   "id": "e0d8266f",
   "metadata": {},
   "outputs": [],
   "source": [
    "# @param: number of sequences demanded\n",
    "# @param: dataset path\n",
    "# @param: number of classes in Set\n",
    "# S, classes = ucrdata.get_sequences(50, 'ItalyPowerDemand/ItalyPowerDemand_TRAIN', 2)\n",
    "# N = S.shape[0]\n",
    "# M = S.shape[1]"
   ]
  },
  {
   "cell_type": "code",
   "execution_count": 8,
   "id": "3e2c046e",
   "metadata": {},
   "outputs": [],
   "source": [
    "S = ucrdata.get_class_sequences(5, words, 50)\n",
    "N = S.shape[0]\n",
    "M = S.shape[1]"
   ]
  },
  {
   "cell_type": "code",
   "execution_count": 9,
   "id": "90f49403",
   "metadata": {},
   "outputs": [],
   "source": [
    "clusters, centroids = mykmeans.find_k_clusters(S, 1)"
   ]
  },
  {
   "cell_type": "markdown",
   "id": "1019f91c",
   "metadata": {},
   "source": [
    "## Clusters according to Algorithm"
   ]
  },
  {
   "cell_type": "code",
   "execution_count": 28,
   "id": "c5516871",
   "metadata": {},
   "outputs": [
    {
     "data": {
      "image/png": "[encoded data removed]",
      "text/plain": [
       "<Figure size 432x288 with 1 Axes>"
      ]
     },
     "metadata": {
      "needs_background": "light"
     },
     "output_type": "display_data"
    }
   ],
   "source": [
    "c_i = 0\n",
    "i = 0\n",
    "for j in clusters[c_i]:\n",
    "    if i < 2:\n",
    "        plt.plot(range(M), S[j])\n",
    "        i += 1\n",
    "\n",
    "\n",
    "# plt.plot(range(M), centroids[c_i], c='k')"
   ]
  },
  {
   "cell_type": "code",
   "execution_count": 11,
   "id": "3d4c6953",
   "metadata": {},
   "outputs": [
    {
     "name": "stdout",
     "output_type": "stream",
     "text": [
      "cluster 0:\n",
      " [0, 1, 2, 3, 4]\n"
     ]
    }
   ],
   "source": [
    "for i in range(1):\n",
    "    print(f'cluster {i}:\\n', clusters[i])"
   ]
  },
  {
   "cell_type": "markdown",
   "id": "96b38291",
   "metadata": {},
   "source": [
    "## Classes According to Labels"
   ]
  },
  {
   "cell_type": "code",
   "execution_count": 12,
   "id": "e335a84a",
   "metadata": {},
   "outputs": [
    {
     "ename": "NameError",
     "evalue": "name 'classes' is not defined",
     "output_type": "error",
     "traceback": [
      "\u001b[0;31m---------------------------------------------------------------------------\u001b[0m",
      "\u001b[0;31mNameError\u001b[0m                                 Traceback (most recent call last)",
      "\u001b[0;32m/tmp/ipykernel_9386/3287600753.py\u001b[0m in \u001b[0;36m<module>\u001b[0;34m\u001b[0m\n\u001b[1;32m      1\u001b[0m \u001b[0;32mfor\u001b[0m \u001b[0mi\u001b[0m \u001b[0;32min\u001b[0m \u001b[0mrange\u001b[0m\u001b[0;34m(\u001b[0m\u001b[0;36m1\u001b[0m\u001b[0;34m)\u001b[0m\u001b[0;34m:\u001b[0m\u001b[0;34m\u001b[0m\u001b[0;34m\u001b[0m\u001b[0m\n\u001b[0;32m----> 2\u001b[0;31m     \u001b[0mprint\u001b[0m\u001b[0;34m(\u001b[0m\u001b[0;34mf'class {i}:\\n'\u001b[0m\u001b[0;34m,\u001b[0m \u001b[0mclasses\u001b[0m\u001b[0;34m[\u001b[0m\u001b[0mi\u001b[0m\u001b[0;34m]\u001b[0m\u001b[0;34m)\u001b[0m\u001b[0;34m\u001b[0m\u001b[0;34m\u001b[0m\u001b[0m\n\u001b[0m",
      "\u001b[0;31mNameError\u001b[0m: name 'classes' is not defined"
     ]
    }
   ],
   "source": [
    "for i in range(2):\n",
    "    print(f'class {i}:\\n', classes[i])"
   ]
  },
  {
   "cell_type": "code",
   "execution_count": null,
   "id": "8304edca",
   "metadata": {},
   "outputs": [],
   "source": [
    "for j in classes[0]:\n",
    "    plt.plot(range(M), S[j])"
   ]
  },
  {
   "cell_type": "code",
   "execution_count": null,
   "id": "c5f3b855",
   "metadata": {},
   "outputs": [],
   "source": [
    "M = S.shape[1]\n",
    "for j in classes[1]:\n",
    "    plt.plot(range(M), S[j])"
   ]
  },
  {
   "cell_type": "code",
   "execution_count": null,
   "id": "3085160e",
   "metadata": {},
   "outputs": [],
   "source": [
    "counter = 0\n",
    "for i in range(2):\n",
    "    for j in classes[i]:\n",
    "        if j in clusters[i]:\n",
    "            counter += 1\n",
    "print('Success rate: ', counter/N)"
   ]
  }
 ],
 "metadata": {
  "kernelspec": {
   "display_name": "Python 3 (ipykernel)",
   "language": "python",
   "name": "python3"
  },
  "language_info": {
   "codemirror_mode": {
    "name": "ipython",
    "version": 3
   },
   "file_extension": ".py",
   "mimetype": "text/x-python",
   "name": "python",
   "nbconvert_exporter": "python",
   "pygments_lexer": "ipython3",
   "version": "3.9.2"
  }
 },
 "nbformat": 4,
 "nbformat_minor": 5
}
