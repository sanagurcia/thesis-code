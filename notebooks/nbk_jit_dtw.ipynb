{
 "cells": [
  {
   "cell_type": "code",
   "execution_count": 2,
   "metadata": {},
   "outputs": [
    {
     "name": "stdout",
     "output_type": "stream",
     "text": [
      "/Users/santiago/thesis/code\n",
      "Importing the dtw module. When using in academic works please cite:\n",
      "  T. Giorgino. Computing and Visualizing Dynamic Time Warping Alignments in R: The dtw Package.\n",
      "  J. Stat. Soft., doi:10.18637/jss.v031.i07.\n",
      "\n"
     ]
    }
   ],
   "source": [
    "%cd /Users/santiago/thesis/code\n",
    "\n",
    "# reload magic\n",
    "%load_ext autoreload\n",
    "%autoreload 2\n",
    "\n",
    "from src import utils\n",
    "from src import jit_dtw # jitted dtw\n",
    "from src import dtw as v_dtw # vanilla dtw\n",
    "from src import c_dtw   # wrapper C dtw\n",
    "from src import c_path_dtw\n",
    "import dtw as g_dtw # Giorgino's dtw\n",
    "\n",
    "import time\n",
    "import numpy as np"
   ]
  },
  {
   "cell_type": "code",
   "execution_count": 4,
   "metadata": {},
   "outputs": [
    {
     "name": "stdout",
     "output_type": "stream",
     "text": [
      "True\n",
      "10.34\n",
      "0.56\n",
      "249.75\n",
      "2.32\n"
     ]
    }
   ],
   "source": [
    "datasets = utils.get_n_datasets(10)\n",
    "S = utils.get_class_sequences(2, datasets[1])\n",
    "\n",
    "c, P = jit_dtw.dtw(S[0, :50], S[1, :50])\n",
    "wp = c_path_dtw.dtw_path(S[0, :50], S[1, :50])\n",
    "\n",
    "print(np.allclose(P, wp))\n",
    "\n",
    "t0 = utils.time_execution(jit_dtw.dtw, S[0], S[1])\n",
    "t1 = utils.time_execution(c_path_dtw.dtw_path, S[0], S[1])\n",
    "t2 = utils.time_execution(v_dtw.dtw, S[0], S[1])\n",
    "t3 = utils.time_execution(g_dtw.dtw, S[0], S[1])\n",
    "\n",
    "print(t0)\n",
    "print(t1)\n",
    "print(t2)\n",
    "print(t3)\n",
    "\n",
    "# t0 = utils.time_execution(jit_dtw.dtw_cost, S[0], S[1])\n",
    "# t1 = utils.time_execution(c_dtw.dtw_cost, S[0], S[1])\n",
    "\n",
    "\n",
    "# print(t0)\n",
    "# print(t1)\n",
    "# print(t2)\n",
    "# print(t3)"
   ]
  },
  {
   "cell_type": "code",
   "execution_count": 4,
   "metadata": {},
   "outputs": [
    {
     "name": "stdout",
     "output_type": "stream",
     "text": [
      "C path dtw: 0.44ms\tjit dtw cost: 0.32ms\t Giorgino: 1.83ms\n",
      "C path dtw: 1.31ms\tjit dtw cost: 0.98ms\t Giorgino: 5.11ms\n",
      "C path dtw: -0.0ms\tjit dtw cost: -0.0ms\t Giorgino: -0.0ms\n",
      "C path dtw: 4.25ms\tjit dtw cost: 3.1ms\t Giorgino: 14.08ms\n",
      "C path dtw: 3.09ms\tjit dtw cost: 2.23ms\t Giorgino: 11.11ms\n",
      "C path dtw: 0.6ms\tjit dtw cost: 0.42ms\t Giorgino: 2.85ms\n",
      "C path dtw: 0.34ms\tjit dtw cost: 0.15ms\t Giorgino: 1.34ms\n",
      "C path dtw: 0.2ms\tjit dtw cost: 0.11ms\t Giorgino: 0.95ms\n",
      "C path dtw: 0.01ms\tjit dtw cost: 0.0ms\t Giorgino: 0.12ms\n",
      "C path dtw: 2.33ms\tjit dtw cost: 1.83ms\t Giorgino: 7.94ms\n"
     ]
    }
   ],
   "source": [
    "'''Execution time analysis on three DTW methods:\n",
    "    * my vanilla DTW\n",
    "    * my jit DTW\n",
    "    * Giorgino's DTW\n",
    "'''\n",
    "\n",
    "datasets = utils.get_n_datasets(10)\n",
    "\n",
    "def time_execution(foo, a, b):\n",
    "    start = time.time()\n",
    "    foo(a, b)\n",
    "    end = time.time()\n",
    "    interval = round((end - start)*10**3, 2)\n",
    "    return interval\n",
    "\n",
    "for dataset in datasets:\n",
    "    n = 10\n",
    "    total_t1 = 0\n",
    "    total_t2 = 0\n",
    "    total_t3 = 0\n",
    "\n",
    "    S = utils.get_class_sequences(n+1, dataset) # get 11 sequences from same (random) class\n",
    "    n = S.shape[0]\n",
    "\n",
    "    # Do DTW 10 times\n",
    "    for i in range(1, n):\n",
    "        # total_t1 += time_execution(g_dtw.dtw, S[0], S[i])\n",
    "        total_t1 += time_execution(c_path_dtw.dtw_path, S[0], S[i])\n",
    "        total_t2 += time_execution(jit_dtw.dtw_cost, S[0], S[i])\n",
    "        total_t3 += time_execution(c_dtw.dtw_cost, S[0], S[i])\n",
    "        # total_t3 += time_execution(g_dtw.dtw, S[0], S[i])\n",
    "    \n",
    "    t1_avg = round(total_t1/(n-1), 2)\n",
    "    t2_avg = round(total_t2/(n-1), 2)\n",
    "    t3_avg = round(total_t3/(n-1), 2)\n",
    "    print(f'C path dtw: {t1_avg}ms\\tjit dtw cost: {t2_avg}ms\\t Giorgino: {t3_avg}ms')"
   ]
  },
  {
   "cell_type": "code",
   "execution_count": null,
   "metadata": {},
   "outputs": [],
   "source": []
  }
 ],
 "metadata": {
  "kernelspec": {
   "display_name": "Python 3.8.9 64-bit",
   "language": "python",
   "name": "python3"
  },
  "language_info": {
   "codemirror_mode": {
    "name": "ipython",
    "version": 3
   },
   "file_extension": ".py",
   "mimetype": "text/x-python",
   "name": "python",
   "nbconvert_exporter": "python",
   "pygments_lexer": "ipython3",
   "version": "3.8.9"
  },
  "orig_nbformat": 4,
  "vscode": {
   "interpreter": {
    "hash": "31f2aee4e71d21fbe5cf8b01ff0e069b9275f58929596ceb00d14d90e3e16cd6"
   }
  }
 },
 "nbformat": 4,
 "nbformat_minor": 2
}
