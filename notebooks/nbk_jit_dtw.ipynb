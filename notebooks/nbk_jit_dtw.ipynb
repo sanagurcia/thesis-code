{
 "cells": [
  {
   "cell_type": "code",
   "execution_count": 1,
   "metadata": {},
   "outputs": [
    {
     "name": "stdout",
     "output_type": "stream",
     "text": [
      "/Users/santiago/thesis/code\n"
     ]
    }
   ],
   "source": [
    "%cd /Users/santiago/thesis/code\n",
    "\n",
    "# reload magic\n",
    "%load_ext autoreload\n",
    "%autoreload 2\n",
    "\n",
    "from src import utils\n",
    "from src.dtw import dtw\n",
    "from src import jit_dtw\n",
    "\n",
    "# DATASET = 'Beef' # seq length 470\n",
    "DATASET = 'ItalyPowerDemand' # seq length 24\n",
    "# DATASET = 'LargeKitchenAppliances' # seq length 720\n",
    "S = utils.get_class_sequences(2, DATASET)\n",
    "a = S[0]\n",
    "b = S[1]"
   ]
  },
  {
   "cell_type": "code",
   "execution_count": 69,
   "metadata": {},
   "outputs": [
    {
     "name": "stdout",
     "output_type": "stream",
     "text": [
      "CPU times: user 3.14 ms, sys: 32 µs, total: 3.17 ms\n",
      "Wall time: 3.17 ms\n"
     ]
    }
   ],
   "source": [
    "%time _ = dtw(a, b)"
   ]
  },
  {
   "cell_type": "code",
   "execution_count": 85,
   "metadata": {},
   "outputs": [
    {
     "name": "stdout",
     "output_type": "stream",
     "text": [
      "CPU times: user 137 µs, sys: 1 µs, total: 138 µs\n",
      "Wall time: 140 µs\n",
      "CPU times: user 16 µs, sys: 1 µs, total: 17 µs\n",
      "Wall time: 19.1 µs\n"
     ]
    }
   ],
   "source": [
    "%time c1, _ = jit_dtw.dtw(a, b)\n",
    "print(c1)\n",
    "\n",
    "%time c2 = jit_dtw.compute_dtw_cost(a, b)\n",
    "print(c2)"
   ]
  }
 ],
 "metadata": {
  "kernelspec": {
   "display_name": "Python 3.8.9 64-bit",
   "language": "python",
   "name": "python3"
  },
  "language_info": {
   "codemirror_mode": {
    "name": "ipython",
    "version": 3
   },
   "file_extension": ".py",
   "mimetype": "text/x-python",
   "name": "python",
   "nbconvert_exporter": "python",
   "pygments_lexer": "ipython3",
   "version": "3.8.9"
  },
  "orig_nbformat": 4,
  "vscode": {
   "interpreter": {
    "hash": "31f2aee4e71d21fbe5cf8b01ff0e069b9275f58929596ceb00d14d90e3e16cd6"
   }
  }
 },
 "nbformat": 4,
 "nbformat_minor": 2
}
