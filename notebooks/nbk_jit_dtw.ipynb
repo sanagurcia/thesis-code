{
 "cells": [
  {
   "cell_type": "code",
   "execution_count": null,
   "metadata": {},
   "outputs": [],
   "source": [
    "%cd /Users/santiago/thesis/code\n",
    "\n",
    "# reload magic\n",
    "%load_ext autoreload\n",
    "%autoreload 2\n",
    "\n",
    "from src import utils\n",
    "from src import jit_dtw # jitted dtw\n",
    "from src import dtw as v_dtw # vanilla dtw\n",
    "from src import c_dtw   # wrapper C dtw\n",
    "from src import c_path_dtw\n",
    "import dtw as g_dtw # Giorgino's dtw\n",
    "\n",
    "import time\n",
    "import numpy as np"
   ]
  },
  {
   "cell_type": "code",
   "execution_count": null,
   "metadata": {},
   "outputs": [],
   "source": [
    "datasets = utils.get_n_datasets(10)\n",
    "S = utils.get_class_sequences(2, datasets[1])\n",
    "\n",
    "c, P = jit_dtw.dtw(S[0, :50], S[1, :50])\n",
    "wp = c_path_dtw.dtw_path(S[0, :50], S[1, :50])\n",
    "\n",
    "for i in range(P.shape[0]):\n",
    "    assert P[i, 0] == wp[i, 0] and P[i, 1] == wp[i, 1]\n",
    "\n",
    "t0 = utils.time_execution(jit_dtw.dtw, S[0], S[1])\n",
    "t1 = utils.time_execution(c_path_dtw.dtw_path, S[0], S[1])\n",
    "t2 = utils.time_execution(v_dtw.dtw, S[0], S[1])\n",
    "t3 = utils.time_execution(g_dtw.dtw, S[0], S[1])\n",
    "\n",
    "print(t0)\n",
    "print(t1)\n",
    "print(t2)\n",
    "print(t3)\n",
    "\n",
    "# t0 = utils.time_execution(jit_dtw.dtw_cost, S[0], S[1])\n",
    "# t1 = utils.time_execution(c_dtw.dtw_cost, S[0], S[1])\n",
    "\n",
    "\n",
    "# print(t0)\n",
    "# print(t1)\n",
    "# print(t2)\n",
    "# print(t3)"
   ]
  },
  {
   "cell_type": "code",
   "execution_count": null,
   "metadata": {},
   "outputs": [],
   "source": [
    "'''Execution time analysis on three DTW methods:\n",
    "    * my vanilla DTW\n",
    "    * my jit DTW\n",
    "    * Giorgino's DTW\n",
    "'''\n",
    "\n",
    "datasets = utils.get_n_datasets(10)\n",
    "\n",
    "def time_execution(foo, a, b):\n",
    "    start = time.time()\n",
    "    foo(a, b)\n",
    "    end = time.time()\n",
    "    interval = round((end - start)*10**3, 2)\n",
    "    return interval\n",
    "\n",
    "for dataset in datasets:\n",
    "    n = 10\n",
    "    total_t1 = 0\n",
    "    total_t2 = 0\n",
    "    total_t3 = 0\n",
    "\n",
    "    S = utils.get_class_sequences(n+1, dataset) # get 11 sequences from same (random) class\n",
    "    n = S.shape[0]\n",
    "\n",
    "    # Do DTW 10 times\n",
    "    for i in range(1, n):\n",
    "        # total_t1 += time_execution(g_dtw.dtw, S[0], S[i])\n",
    "        total_t1 += time_execution(dtw.dtw, S[0], S[i])\n",
    "        total_t2 += time_execution(jit_dtw.dtw, S[0], S[i])\n",
    "        total_t3 += time_execution(g_dtw.dtw, S[0], S[i])\n",
    "    \n",
    "    t1_avg = round(total_t1/(n-1), 2)\n",
    "    t2_avg = round(total_t2/(n-1), 2)\n",
    "    t3_avg = round(total_t3/(n-1), 2)\n",
    "    print(f'Seq length: {S.shape[1]}\\t{t1_avg}ms\\t{t2_avg}ms\\t{t3_avg}ms')"
   ]
  },
  {
   "cell_type": "code",
   "execution_count": null,
   "metadata": {},
   "outputs": [],
   "source": []
  }
 ],
 "metadata": {
  "kernelspec": {
   "display_name": "Python 3.8.9 64-bit",
   "language": "python",
   "name": "python3"
  },
  "language_info": {
   "codemirror_mode": {
    "name": "ipython",
    "version": 3
   },
   "file_extension": ".py",
   "mimetype": "text/x-python",
   "name": "python",
   "nbconvert_exporter": "python",
   "pygments_lexer": "ipython3",
   "version": "3.8.9"
  },
  "orig_nbformat": 4,
  "vscode": {
   "interpreter": {
    "hash": "31f2aee4e71d21fbe5cf8b01ff0e069b9275f58929596ceb00d14d90e3e16cd6"
   }
  }
 },
 "nbformat": 4,
 "nbformat_minor": 2
}
