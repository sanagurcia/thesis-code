{
 "cells": [
  {
   "cell_type": "code",
   "execution_count": 16,
   "metadata": {},
   "outputs": [
    {
     "name": "stdout",
     "output_type": "stream",
     "text": [
      "/Users/santiago/thesis/code\n",
      "The autoreload extension is already loaded. To reload it, use:\n",
      "  %reload_ext autoreload\n"
     ]
    }
   ],
   "source": [
    "%cd /Users/santiago/thesis/code\n",
    "\n",
    "# reload magic\n",
    "%load_ext autoreload\n",
    "%autoreload 2\n",
    "\n",
    "from src import utils\n",
    "from src import jit_dtw # jitted dtw\n",
    "from src import dtw as v_dtw # vanilla dtw\n",
    "from src import c_dtw   # wrapper C dtw\n",
    "import dtw as g_dtw # Giorgino's dtw\n",
    "\n",
    "import time"
   ]
  },
  {
   "cell_type": "code",
   "execution_count": 70,
   "metadata": {},
   "outputs": [
    {
     "name": "stdout",
     "output_type": "stream",
     "text": [
      "0.19\n",
      "0.35\n",
      "121.12\n",
      "1.12\n"
     ]
    }
   ],
   "source": [
    "datasets = utils.get_n_datasets(10)\n",
    "S = utils.get_class_sequences(2, datasets[0])\n",
    "\n",
    "t0 = utils.time_execution(jit_dtw.dtw_cost, S[0], S[1])\n",
    "t1 = utils.time_execution(c_dtw.dtw_cost, S[0], S[1])\n",
    "t2 = utils.time_execution(v_dtw.dtw, S[0], S[1])\n",
    "t3 = utils.time_execution(g_dtw.dtw, S[0], S[1])\n",
    "print(t0)\n",
    "print(t1)\n",
    "print(t2)\n",
    "print(t3)"
   ]
  },
  {
   "cell_type": "code",
   "execution_count": 8,
   "metadata": {},
   "outputs": [
    {
     "name": "stdout",
     "output_type": "stream",
     "text": [
      "Seq length: 176\t123.41ms\t4.21ms\t1.21ms\n",
      "Seq length: 251\t249.29ms\t8.42ms\t2.23ms\n",
      "Seq length: 470\t884.09ms\t32.74ms\t6.28ms\n",
      "Seq length: 512\t1063.39ms\t37.41ms\t7.05ms\n",
      "Seq length: 512\t1049.18ms\t35.31ms\t6.83ms\n",
      "Seq length: 577\t1329.47ms\t43.68ms\t7.97ms\n",
      "Seq length: 128\t64.29ms\t2.64ms\t1.0ms\n",
      "Seq length: 166\t108.76ms\t3.79ms\t1.3ms\n",
      "Seq length: 1639\t10868.65ms\t408.85ms\t58.84ms\n",
      "Seq length: 286\t323.07ms\t11.62ms\t2.66ms\n"
     ]
    }
   ],
   "source": [
    "'''Execution time analysis on three DTW methods:\n",
    "    * my vanilla DTW\n",
    "    * my jit DTW\n",
    "    * Giorgino's DTW\n",
    "'''\n",
    "\n",
    "datasets = utils.get_n_datasets(10)\n",
    "\n",
    "def time_execution(foo, a, b):\n",
    "    start = time.time()\n",
    "    foo(a, b)\n",
    "    end = time.time()\n",
    "    interval = round((end - start)*10**3, 2)\n",
    "    return interval\n",
    "\n",
    "for dataset in datasets:\n",
    "    n = 10\n",
    "    total_t1 = 0\n",
    "    total_t2 = 0\n",
    "    total_t3 = 0\n",
    "\n",
    "    S = utils.get_class_sequences(n+1, dataset) # get 11 sequences from same (random) class\n",
    "    n = S.shape[0]\n",
    "\n",
    "    # Do DTW 10 times\n",
    "    for i in range(1, n):\n",
    "        # total_t1 += time_execution(g_dtw.dtw, S[0], S[i])\n",
    "        total_t1 += time_execution(dtw.dtw, S[0], S[i])\n",
    "        total_t2 += time_execution(jit_dtw.dtw, S[0], S[i])\n",
    "        total_t3 += time_execution(g_dtw.dtw, S[0], S[i])\n",
    "    \n",
    "    t1_avg = round(total_t1/(n-1), 2)\n",
    "    t2_avg = round(total_t2/(n-1), 2)\n",
    "    t3_avg = round(total_t3/(n-1), 2)\n",
    "    print(f'Seq length: {S.shape[1]}\\t{t1_avg}ms\\t{t2_avg}ms\\t{t3_avg}ms')"
   ]
  },
  {
   "cell_type": "code",
   "execution_count": null,
   "metadata": {},
   "outputs": [],
   "source": []
  }
 ],
 "metadata": {
  "kernelspec": {
   "display_name": "Python 3.8.9 64-bit",
   "language": "python",
   "name": "python3"
  },
  "language_info": {
   "codemirror_mode": {
    "name": "ipython",
    "version": 3
   },
   "file_extension": ".py",
   "mimetype": "text/x-python",
   "name": "python",
   "nbconvert_exporter": "python",
   "pygments_lexer": "ipython3",
   "version": "3.8.9"
  },
  "orig_nbformat": 4,
  "vscode": {
   "interpreter": {
    "hash": "31f2aee4e71d21fbe5cf8b01ff0e069b9275f58929596ceb00d14d90e3e16cd6"
   }
  }
 },
 "nbformat": 4,
 "nbformat_minor": 2
}
