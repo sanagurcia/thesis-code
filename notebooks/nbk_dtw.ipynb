{
 "cells": [
  {
   "cell_type": "code",
   "execution_count": null,
   "id": "f9705820",
   "metadata": {},
   "outputs": [],
   "source": [
    "%cd /Users/santiago/thesis/code\n",
    "import numpy as np\n",
    "import matplotlib.pyplot as plt\n",
    "from src import utils\n",
    "from src.dtw import dtw\n",
    "# import dtw as g_dtw"
   ]
  },
  {
   "cell_type": "code",
   "execution_count": null,
   "id": "397b837e",
   "metadata": {},
   "outputs": [],
   "source": [
    "# Generate two identical sine-curve-based sequences with offset\n",
    "\n",
    "# delta = 1/16\n",
    "\n",
    "# t2 = np.arange(0, 2*np.pi, 0.2)\n",
    "# t1 = np.arange(delta*np.pi, 2*np.pi + delta*np.pi, 0.2)\n",
    "# a = np.sin(t1)\n",
    "# b = np.sin(t2)"
   ]
  },
  {
   "cell_type": "code",
   "execution_count": null,
   "id": "b29f3229",
   "metadata": {},
   "outputs": [],
   "source": [
    "# Read in two random sequences from same class in DATASET\n",
    "\n",
    "# DATASET = \"TwoLeadECG\"  # length 82\n",
    "# DATASET = \"SmoothSubspace\"   # length 24\n",
    "DATASET = \"ProximalPhalanxOutlineCorrect\" # length 80\n",
    "\n",
    "S = utils.get_class_sequences(2, DATASET)\n",
    "a = S[0]    # first sequence\n",
    "b = S[1]    # second sequence"
   ]
  },
  {
   "cell_type": "code",
   "execution_count": null,
   "id": "122de6f2",
   "metadata": {},
   "outputs": [],
   "source": [
    "# SAD method:\n",
    "s_cost, s_path = sad_dtw.dtw(a, b)\n",
    "\n",
    "# Giorgino's method:\n",
    "alignment = g_dtw.dtw(a, b)\n",
    "g_path = np.asarray([alignment.index1, alignment.index2])\n",
    "g_path = np.transpose(g_path)\n",
    "\n",
    "utils.plot_alignment(s_path, a, b, f\"SAD's DTW, cost: {str(round(s_cost, 2))}\")\n",
    "utils.plot_alignment(g_path, a, b, f\"Giorgino's DTW, cost: {str(round(alignment.distance, 2))}\")"
   ]
  },
  {
   "cell_type": "code",
   "execution_count": null,
   "id": "87a265c1",
   "metadata": {},
   "outputs": [],
   "source": [
    "index1 = s_path[:,0]\n",
    "index2 = s_path[:,1]\n",
    "plt.plot(index1, index2)\n",
    "plt.plot(alignment.index1, alignment.index2)"
   ]
  }
 ],
 "metadata": {
  "kernelspec": {
   "display_name": "Python 3.8.9 64-bit",
   "language": "python",
   "name": "python3"
  },
  "language_info": {
   "codemirror_mode": {
    "name": "ipython",
    "version": 3
   },
   "file_extension": ".py",
   "mimetype": "text/x-python",
   "name": "python",
   "nbconvert_exporter": "python",
   "pygments_lexer": "ipython3",
   "version": "3.8.9"
  },
  "vscode": {
   "interpreter": {
    "hash": "31f2aee4e71d21fbe5cf8b01ff0e069b9275f58929596ceb00d14d90e3e16cd6"
   }
  }
 },
 "nbformat": 4,
 "nbformat_minor": 5
}
