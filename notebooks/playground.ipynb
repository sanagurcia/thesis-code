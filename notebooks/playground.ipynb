{
 "cells": [
  {
   "cell_type": "code",
   "execution_count": null,
   "metadata": {},
   "outputs": [],
   "source": [
    "%cd /Users/santiago/thesis/code\n",
    "\n",
    "# reload magic\n",
    "%load_ext autoreload\n",
    "%autoreload 2\n",
    "\n",
    "from src import utils, kmeans, nn, shapedtw\n",
    "from src.dba import DBA\n",
    "from src.fast_dtw import dtw_path\n",
    "from src.utils import time_it\n",
    "import numpy as np\n",
    "import matplotlib.pyplot as plt\n",
    "from src.dataset import Dataset"
   ]
  },
  {
   "cell_type": "code",
   "execution_count": null,
   "metadata": {},
   "outputs": [],
   "source": [
    "good_sets = ['FaceAll', 'Ham', 'OliveOil', 'Car', 'ChlorineConcentration', 'ECG5000']"
   ]
  },
  {
   "cell_type": "code",
   "execution_count": null,
   "metadata": {},
   "outputs": [],
   "source": [
    "ds = Dataset('ArrowHead')\n",
    "\n",
    "means = []\n",
    "for cluster in ds.train_clusters:\n",
    "    dba = DBA(cluster, 'SHAPE')\n",
    "    means.append(dba.mean())\n",
    "    cluster_mean = dba.mean()\n",
    "\n",
    "success = nn.classify_and_measure_success(means, ds.train_set, ds.train_labels)\n",
    "print(success)\n",
    "utils.plot_clusters(ds.train_clusters, means)\n"
   ]
  }
 ],
 "metadata": {
  "kernelspec": {
   "display_name": "Python 3.8.9 64-bit",
   "language": "python",
   "name": "python3"
  },
  "language_info": {
   "codemirror_mode": {
    "name": "ipython",
    "version": 3
   },
   "file_extension": ".py",
   "mimetype": "text/x-python",
   "name": "python",
   "nbconvert_exporter": "python",
   "pygments_lexer": "ipython3",
   "version": "3.8.9"
  },
  "orig_nbformat": 4,
  "vscode": {
   "interpreter": {
    "hash": "31f2aee4e71d21fbe5cf8b01ff0e069b9275f58929596ceb00d14d90e3e16cd6"
   }
  }
 },
 "nbformat": 4,
 "nbformat_minor": 2
}
