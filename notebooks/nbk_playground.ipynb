{
 "cells": [
  {
   "cell_type": "code",
   "execution_count": 29,
   "metadata": {},
   "outputs": [
    {
     "name": "stdout",
     "output_type": "stream",
     "text": [
      "/Users/santiago/thesis/code\n",
      "The autoreload extension is already loaded. To reload it, use:\n",
      "  %reload_ext autoreload\n"
     ]
    }
   ],
   "source": [
    "%cd /Users/santiago/thesis/code\n",
    "\n",
    "# reload magic\n",
    "%load_ext autoreload\n",
    "%autoreload 2\n",
    "\n",
    "from src import utils, kmeans, dba, jit_dtw, c_path_dtw, c_dtw\n",
    "import numpy as np\n",
    "import matplotlib.pyplot as plt"
   ]
  },
  {
   "cell_type": "code",
   "execution_count": 4,
   "metadata": {},
   "outputs": [],
   "source": [
    "# testing warping path jit_dtw vs c_dtw\n",
    "\n",
    "datasets = utils.get_n_datasets(5)\n",
    "\n",
    "for dataset in datasets:\n",
    "    n = 10\n",
    "    S = utils.get_class_sequences(n+1, dataset) # get 11 sequences from same (random) class\n",
    "    n = S.shape[0]\n",
    "\n",
    "    # Do DTW 10 times\n",
    "    for i in range(1, n):\n",
    "        a = S[0, :100]\n",
    "        b = S[i, :100]\n",
    "        _, p1 = jit_dtw.dtw(a, b)\n",
    "        p2 = c_path_dtw.dtw_path(a, b)\n",
    "\n",
    "        # if not np.allclose(p1, p2):\n",
    "    \n"
   ]
  },
  {
   "cell_type": "code",
   "execution_count": 30,
   "metadata": {},
   "outputs": [
    {
     "name": "stdout",
     "output_type": "stream",
     "text": [
      "Set no. 5\tClasses: 37\n",
      "Sequences: 390\n",
      "Sequence length: 176\n",
      "\n",
      "\u001b[96m[k-means]\u001b[0m Iteration 1...\n",
      "\u001b[96m[k-means]\u001b[0m Assigning sequences to nearest centroids...\n",
      "\u001b[96m[k-means]\u001b[0m Recalculating centroids...\n"
     ]
    },
    {
     "ename": "AssertionError",
     "evalue": "",
     "output_type": "error",
     "traceback": [
      "\u001b[0;31m---------------------------------------------------------------------------\u001b[0m",
      "\u001b[0;31mAssertionError\u001b[0m                            Traceback (most recent call last)",
      "Cell \u001b[0;32mIn [30], line 14\u001b[0m\n\u001b[1;32m     10\u001b[0m seq_len \u001b[39m=\u001b[39m S\u001b[39m.\u001b[39mshape[\u001b[39m1\u001b[39m]\n\u001b[1;32m     12\u001b[0m \u001b[39mprint\u001b[39m(\u001b[39mf\u001b[39m\u001b[39m'\u001b[39m\u001b[39mSet no. \u001b[39m\u001b[39m{\u001b[39;00mrand\u001b[39m}\u001b[39;00m\u001b[39m\\t\u001b[39;00m\u001b[39mClasses: \u001b[39m\u001b[39m{\u001b[39;00mk\u001b[39m}\u001b[39;00m\u001b[39m\\n\u001b[39;00m\u001b[39mSequences: \u001b[39m\u001b[39m{\u001b[39;00mn_seqs\u001b[39m}\u001b[39;00m\u001b[39m\\n\u001b[39;00m\u001b[39mSequence length: \u001b[39m\u001b[39m{\u001b[39;00mseq_len\u001b[39m}\u001b[39;00m\u001b[39m'\u001b[39m)\n\u001b[0;32m---> 14\u001b[0m clusters, centroids \u001b[39m=\u001b[39m kmeans\u001b[39m.\u001b[39;49mfind_k_clusters(S, k, verbose\u001b[39m=\u001b[39;49m\u001b[39mTrue\u001b[39;49;00m)\n",
      "File \u001b[0;32m~/thesis/code/src/kmeans.py:45\u001b[0m, in \u001b[0;36mfind_k_clusters\u001b[0;34m(S, k, verbose)\u001b[0m\n\u001b[1;32m     42\u001b[0m \u001b[39mif\u001b[39;00m verbose:\n\u001b[1;32m     43\u001b[0m     \u001b[39mprint\u001b[39m(\u001b[39mf\u001b[39m\u001b[39m\"\u001b[39m\u001b[39m\\n\u001b[39;00m\u001b[39m{\u001b[39;00mCOL\u001b[39m}\u001b[39;00m\u001b[39m[k-means]\u001b[39m\u001b[39m{\u001b[39;00mCEND\u001b[39m}\u001b[39;00m\u001b[39m Iteration \u001b[39m\u001b[39m{\u001b[39;00m\u001b[39m1\u001b[39m\u001b[39m}\u001b[39;00m\u001b[39m...\u001b[39m\u001b[39m\"\u001b[39m)\n\u001b[0;32m---> 45\u001b[0m clusters, C_updated \u001b[39m=\u001b[39m k_means_iteration(C, S, verbose)  \u001b[39m# perform first iteration\u001b[39;00m\n\u001b[1;32m     47\u001b[0m \u001b[39m# while centroids don't converge, perform iteration\u001b[39;00m\n\u001b[1;32m     48\u001b[0m j \u001b[39m=\u001b[39m \u001b[39m1\u001b[39m\n",
      "File \u001b[0;32m~/thesis/code/src/kmeans.py:113\u001b[0m, in \u001b[0;36mk_means_iteration\u001b[0;34m(centroids, S, verbose)\u001b[0m\n\u001b[1;32m    109\u001b[0m \u001b[39mfor\u001b[39;00m i \u001b[39min\u001b[39;00m \u001b[39mrange\u001b[39m(k):\n\u001b[1;32m    110\u001b[0m \n\u001b[1;32m    111\u001b[0m     \u001b[39m# collect all sequences of cluster_i in ndarray S_i\u001b[39;00m\n\u001b[1;32m    112\u001b[0m     L \u001b[39m=\u001b[39m \u001b[39mlen\u001b[39m(clusters[i])\n\u001b[0;32m--> 113\u001b[0m     \u001b[39massert\u001b[39;00m L \u001b[39m>\u001b[39m \u001b[39m0\u001b[39m  \u001b[39m# FIX-ME: sometimes a cluster is empty--i.e. no sequences assigned to it.\u001b[39;00m\n\u001b[1;32m    114\u001b[0m     \u001b[39m# if L == 0:\u001b[39;00m\n\u001b[1;32m    115\u001b[0m     \u001b[39m#     print(clusters[i])\u001b[39;00m\n\u001b[1;32m    117\u001b[0m     S_i \u001b[39m=\u001b[39m np\u001b[39m.\u001b[39mzeros((L, S\u001b[39m.\u001b[39mshape[\u001b[39m1\u001b[39m]))\n",
      "\u001b[0;31mAssertionError\u001b[0m: "
     ]
    }
   ],
   "source": [
    "# testing kmeans\n",
    "\n",
    "datasets = utils.get_n_datasets(10)\n",
    "\n",
    "rand = np.random.randint(0, 10)\n",
    "S, classes = utils.get_n_sequences(datasets[0]) # Dataset no. 0 causes problem on first iteration. See assertion error.\n",
    "\n",
    "k = len(classes)\n",
    "n_seqs = S.shape[0]\n",
    "seq_len = S.shape[1]\n",
    "\n",
    "print(f'Set no. {rand}\\tClasses: {k}\\nSequences: {n_seqs}\\nSequence length: {seq_len}')\n",
    "\n",
    "clusters, centroids = kmeans.find_k_clusters(S, k, verbose=True)"
   ]
  }
 ],
 "metadata": {
  "kernelspec": {
   "display_name": "Python 3.8.9 64-bit",
   "language": "python",
   "name": "python3"
  },
  "language_info": {
   "codemirror_mode": {
    "name": "ipython",
    "version": 3
   },
   "file_extension": ".py",
   "mimetype": "text/x-python",
   "name": "python",
   "nbconvert_exporter": "python",
   "pygments_lexer": "ipython3",
   "version": "3.8.9"
  },
  "orig_nbformat": 4,
  "vscode": {
   "interpreter": {
    "hash": "31f2aee4e71d21fbe5cf8b01ff0e069b9275f58929596ceb00d14d90e3e16cd6"
   }
  }
 },
 "nbformat": 4,
 "nbformat_minor": 2
}
