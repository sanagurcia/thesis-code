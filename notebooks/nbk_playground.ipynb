{
 "cells": [
  {
   "cell_type": "code",
   "execution_count": null,
   "metadata": {},
   "outputs": [],
   "source": [
    "%cd /Users/santiago/thesis/code\n",
    "\n",
    "# reload magic\n",
    "%load_ext autoreload\n",
    "%autoreload 2\n",
    "\n",
    "from src import utils, kmeans, dba, nn\n",
    "from src.utils import time_it\n",
    "import numpy as np\n",
    "import matplotlib.pyplot as plt\n",
    "from src.Dataset import Dataset\n",
    "from src.fast_dtw import dtw_cost, dtw_path"
   ]
  },
  {
   "cell_type": "code",
   "execution_count": null,
   "metadata": {},
   "outputs": [],
   "source": [
    "ds = Dataset('Beef')\n",
    "a = ds.train_set[0]\n",
    "b = ds.train_set[5]\n",
    "\n",
    "timed_dtw_cost = time_it(dtw_cost)\n",
    "timed_dtw_path = time_it(dtw_path)\n",
    "t1 = timed_dtw_cost(a, b)\n",
    "t2 = timed_dtw_path(a, b)\n",
    "print(t1, t2)"
   ]
  },
  {
   "cell_type": "code",
   "execution_count": null,
   "metadata": {},
   "outputs": [],
   "source": [
    "### NN Classification ###\n",
    "\n",
    "ds = Dataset()\n",
    "\n",
    "# compute cluster means with DBA\n",
    "cluster_means = []\n",
    "for cluster in ds.train_clusters:\n",
    "    mean = dba.dba_mean(cluster)\n",
    "    cluster_means.append(mean)\n",
    "\n",
    "# get TEST classes and classify with nearest neighbor method\n",
    "print(f\"Performing mean-based NN on test set of length {ds.test_set_size}...\")\n",
    "\n",
    "calculated_labels = nn.nearest_mean_classify(cluster_means, ds.test_set)  \n",
    "\n",
    "success = nn.calculate_success_rate(ds.test_labels, calculated_labels, ds.test_set_size)\n",
    "print(f\"Success rate: {success}\")\n"
   ]
  }
 ],
 "metadata": {
  "kernelspec": {
   "display_name": "Python 3.8.9 64-bit",
   "language": "python",
   "name": "python3"
  },
  "language_info": {
   "codemirror_mode": {
    "name": "ipython",
    "version": 3
   },
   "file_extension": ".py",
   "mimetype": "text/x-python",
   "name": "python",
   "nbconvert_exporter": "python",
   "pygments_lexer": "ipython3",
   "version": "3.8.9"
  },
  "orig_nbformat": 4,
  "vscode": {
   "interpreter": {
    "hash": "31f2aee4e71d21fbe5cf8b01ff0e069b9275f58929596ceb00d14d90e3e16cd6"
   }
  }
 },
 "nbformat": 4,
 "nbformat_minor": 2
}
