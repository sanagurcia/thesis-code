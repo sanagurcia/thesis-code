{
 "cells": [
  {
   "cell_type": "code",
   "execution_count": 1,
   "metadata": {},
   "outputs": [
    {
     "name": "stdout",
     "output_type": "stream",
     "text": [
      "/Users/santiago/thesis/code\n"
     ]
    }
   ],
   "source": [
    "%cd /Users/santiago/thesis/code\n",
    "\n",
    "# reload magic\n",
    "%load_ext autoreload\n",
    "%autoreload 2\n",
    "\n",
    "from src import utils, kmeans, dba, nn, shapedtw\n",
    "from src.fast_dtw import dtw_path\n",
    "from src.utils import time_it\n",
    "import numpy as np\n",
    "import matplotlib.pyplot as plt\n",
    "from src.dataset import Dataset"
   ]
  },
  {
   "cell_type": "code",
   "execution_count": 12,
   "metadata": {},
   "outputs": [
    {
     "name": "stdout",
     "output_type": "stream",
     "text": [
      "\n",
      "\u001b[92mFish Dataset\u001b[0m            \n",
      "Clusters: 7            \n",
      "Sequence length: 463            \n",
      "Train size: 175            \n",
      "Test size: 175\n",
      "\n",
      "[[462 462]\n",
      " [461 461]\n",
      " [460 461]\n",
      " ...\n",
      " [  0   2]\n",
      " [  0   1]\n",
      " [  0   0]]\n",
      "[[462 462]\n",
      " [461 461]\n",
      " [460 460]\n",
      " ...\n",
      " [  0   2]\n",
      " [  0   1]\n",
      " [  0   0]]\n"
     ]
    }
   ],
   "source": [
    "ds = Dataset()\n",
    "a = ds.train_set[0]\n",
    "b = ds.train_set[1]\n",
    "\n",
    "f1 = time_it(dtw_path)\n",
    "f1 = time_it(shapedtw.path)\n",
    "\n",
    "path_regular = dtw_path(a, b)\n",
    "path_shape = shapedtw.path(a, b)\n"
   ]
  }
 ],
 "metadata": {
  "kernelspec": {
   "display_name": "Python 3.8.9 64-bit",
   "language": "python",
   "name": "python3"
  },
  "language_info": {
   "codemirror_mode": {
    "name": "ipython",
    "version": 3
   },
   "file_extension": ".py",
   "mimetype": "text/x-python",
   "name": "python",
   "nbconvert_exporter": "python",
   "pygments_lexer": "ipython3",
   "version": "3.8.9"
  },
  "orig_nbformat": 4,
  "vscode": {
   "interpreter": {
    "hash": "31f2aee4e71d21fbe5cf8b01ff0e069b9275f58929596ceb00d14d90e3e16cd6"
   }
  }
 },
 "nbformat": 4,
 "nbformat_minor": 2
}
