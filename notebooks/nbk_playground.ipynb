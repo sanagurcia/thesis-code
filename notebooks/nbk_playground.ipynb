{
 "cells": [
  {
   "cell_type": "code",
   "execution_count": null,
   "metadata": {},
   "outputs": [],
   "source": [
    "%cd /Users/santiago/thesis/code\n",
    "\n",
    "# reload magic\n",
    "%load_ext autoreload\n",
    "%autoreload 2\n",
    "\n",
    "from src import utils, kmeans, dba\n",
    "import numpy as np\n",
    "import matplotlib.pyplot as plt"
   ]
  },
  {
   "cell_type": "code",
   "execution_count": null,
   "metadata": {},
   "outputs": [],
   "source": [
    "# DBA sanity check\n",
    "\n",
    "datasets = utils.get_n_datasets(3, low_k=False)\n",
    "\n",
    "for i, dataset in enumerate(datasets):\n",
    "    n = 20\n",
    "    S = utils.get_class_sequences(n+1, dataset) # get 11 sequences from same (random) class\n",
    "\n",
    "    mean = dba.dba_mean(S, iterations=5, verbose=True)\n",
    "    utils.plot_cluster(S, mean, i+1, dataset_name=dataset)\n",
    "        "
   ]
  },
  {
   "cell_type": "code",
   "execution_count": null,
   "metadata": {},
   "outputs": [],
   "source": [
    "# testing kmeans\n",
    "\n",
    "dataset = utils.get_n_datasets(1, True)[0]\n",
    "\n",
    "S, classes = utils.get_n_sequences(dataset)\n",
    "k = len(classes)\n",
    "n_seqs = S.shape[0]\n",
    "seq_len = S.shape[1]\n",
    "\n",
    "# only perform k-means for short-med length sequences\n",
    "if seq_len < 500 and n_seqs < 1000:\n",
    "    print(f'Set \"{dataset}\"\\nClasses: {k}\\nSequences: {n_seqs}\\nSequence length: {seq_len}')\n",
    "\n",
    "    clusters_indices, centroids = kmeans.find_k_clusters(S, k, verbose=True)\n",
    "    clusters_arrays = utils.extract_class_sequences(S, clusters_indices)\n",
    "    utils.plot_clusters(clusters_arrays, centroids)"
   ]
  }
 ],
 "metadata": {
  "kernelspec": {
   "display_name": "Python 3.8.9 64-bit",
   "language": "python",
   "name": "python3"
  },
  "language_info": {
   "codemirror_mode": {
    "name": "ipython",
    "version": 3
   },
   "file_extension": ".py",
   "mimetype": "text/x-python",
   "name": "python",
   "nbconvert_exporter": "python",
   "pygments_lexer": "ipython3",
   "version": "3.8.9"
  },
  "orig_nbformat": 4,
  "vscode": {
   "interpreter": {
    "hash": "31f2aee4e71d21fbe5cf8b01ff0e069b9275f58929596ceb00d14d90e3e16cd6"
   }
  }
 },
 "nbformat": 4,
 "nbformat_minor": 2
}
