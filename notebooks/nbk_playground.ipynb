{
 "cells": [
  {
   "cell_type": "code",
   "execution_count": null,
   "metadata": {},
   "outputs": [],
   "source": [
    "%cd /Users/santiago/thesis/code\n",
    "\n",
    "# reload magic\n",
    "%load_ext autoreload\n",
    "%autoreload 2\n",
    "\n",
    "from src import utils, kmeans, dba, nn\n",
    "import numpy as np\n",
    "import matplotlib.pyplot as plt\n",
    "from src.Dataset import Dataset"
   ]
  },
  {
   "cell_type": "code",
   "execution_count": null,
   "metadata": {},
   "outputs": [],
   "source": [
    "ds = Dataset(\"Beef\")\n",
    "\n",
    "print(ds.train_set[0][:20])\n",
    "print(ds.test_set[0][:20])\n"
   ]
  },
  {
   "cell_type": "code",
   "execution_count": null,
   "metadata": {},
   "outputs": [],
   "source": [
    "# DBA sanity check\n",
    "\n",
    "datasets = utils.get_n_datasets(3, low_k=False)\n",
    "\n",
    "for i, dataset in enumerate(datasets):\n",
    "    n = 20\n",
    "    S = utils.get_class_sequences(n+1, dataset) # get 11 sequences from same (random) class\n",
    "\n",
    "    mean = dba.dba_mean(S, iterations=5, verbose=True)\n",
    "    utils.plot_cluster(S, mean, i+1, dataset_name=dataset)\n",
    "        "
   ]
  },
  {
   "cell_type": "code",
   "execution_count": null,
   "metadata": {},
   "outputs": [],
   "source": [
    "# testing kmeans\n",
    "\n",
    "dataset = utils.get_n_datasets(1, True)[0]\n",
    "\n",
    "S, classes = utils.get_all_sequences(dataset)\n",
    "k = len(classes)\n",
    "n_seqs = S.shape[0]\n",
    "seq_len = S.shape[1]\n",
    "\n",
    "# only perform k-means for short-med length sequences\n",
    "if seq_len < 500 and n_seqs < 1000:\n",
    "    print(f'Set \"{dataset}\"\\nClasses: {k}\\nSequences: {n_seqs}\\nSequence length: {seq_len}')\n",
    "\n",
    "    clusters_indices, centroids = kmeans.find_k_clusters(S, k, verbose=True)\n",
    "    clusters_arrays = utils.extract_class_sequences(S, clusters_indices)\n",
    "    utils.plot_clusters(clusters_arrays, centroids)"
   ]
  },
  {
   "cell_type": "code",
   "execution_count": null,
   "metadata": {},
   "outputs": [],
   "source": [
    "# NN Classification\n",
    "\n",
    "dataset = utils.get_n_datasets(1)[0]\n",
    "\n",
    "def get_class_for_sequence(class_list: [[int]], seq_index):\n",
    "    for class_index, a_class in enumerate(class_list):\n",
    "        if seq_index in a_class: \n",
    "            return class_index\n",
    "\n",
    "# dataset = \"CBF\"\n",
    "\n",
    "# Get TRAIN sequences and calculate centroids with DBA\n",
    "S_train, train_classes = utils.get_all_sequences(dataset)\n",
    "S_train_list = utils.extract_class_sequences(S_train, train_classes)\n",
    "\n",
    "class_means = []\n",
    "for S_c in S_train_list:\n",
    "    mean = dba.dba_mean(S_c)\n",
    "    class_means.append(mean)\n",
    "\n",
    "info = utils.get_dataset_info(dataset)\n",
    "print(info)\n",
    "\n",
    "\n",
    "# get TEST classes and classify with nearest neighbor method\n",
    "S_test, test_classes = utils.get_all_sequences(dataset, train=False)\n",
    "print(f\"Performing NN on Test set of length {S_test.shape[0]}\")\n",
    "\n",
    "calculated_classes = nn.classify(class_means, S_test)  # do the meat\n",
    "\n",
    "S_test_list = utils.extract_class_sequences(S_test, calculated_classes)\n",
    "# utils.plot_clusters(S_test_list, class_means)\n",
    "\n",
    "success = nn.calculate_success_rate(test_classes, calculated_class, S_test.shape[0])\n",
    "\n",
    "# correctly_classified = 0\n",
    "\n",
    "# for test_i in range(S_test.shape[0]):\n",
    "#     labeled_class = get_class_for_sequence(test_classes, test_i)\n",
    "#     calculated_class = get_class_for_sequence(calculated_classes, test_i)\n",
    "#     if labeled_class == calculated_class:\n",
    "#         correctly_classified += 1\n",
    "    \n",
    "# print(correctly_classified/S_test.shape[0])\n",
    "\n"
   ]
  }
 ],
 "metadata": {
  "kernelspec": {
   "display_name": "Python 3.8.9 64-bit",
   "language": "python",
   "name": "python3"
  },
  "language_info": {
   "codemirror_mode": {
    "name": "ipython",
    "version": 3
   },
   "file_extension": ".py",
   "mimetype": "text/x-python",
   "name": "python",
   "nbconvert_exporter": "python",
   "pygments_lexer": "ipython3",
   "version": "3.8.9"
  },
  "orig_nbformat": 4,
  "vscode": {
   "interpreter": {
    "hash": "31f2aee4e71d21fbe5cf8b01ff0e069b9275f58929596ceb00d14d90e3e16cd6"
   }
  }
 },
 "nbformat": 4,
 "nbformat_minor": 2
}
