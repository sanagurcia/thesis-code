{
 "cells": [
  {
   "cell_type": "code",
   "execution_count": null,
   "id": "6e6f1cd7",
   "metadata": {},
   "outputs": [],
   "source": [
    "%cd /Users/santiago/thesis/code\n",
    "\n",
    "# reload magic\n",
    "%load_ext autoreload\n",
    "%autoreload 2\n",
    "\n",
    "import numpy as np\n",
    "from src import utils, kmeans, dba\n",
    "import matplotlib.pyplot as plt"
   ]
  },
  {
   "cell_type": "code",
   "execution_count": null,
   "id": "1fda2ca6",
   "metadata": {},
   "outputs": [],
   "source": [
    "datasets = utils.get_n_datasets(10)\n",
    "\n",
    "S, classes = utils.get_n_sequences(datasets[8])\n",
    "\n",
    "k = len(classes)\n",
    "n_seqs = S.shape[0]\n",
    "seq_len = S.shape[1]\n",
    "\n",
    "print(f'Classes: {k}\\nSequences: {n_seqs}\\nSequence length: {seq_len}')"
   ]
  },
  {
   "cell_type": "code",
   "execution_count": null,
   "id": "90f49403",
   "metadata": {},
   "outputs": [],
   "source": [
    "clusters, centroids = kmeans.find_k_clusters(S, k, verbose=True)"
   ]
  },
  {
   "cell_type": "markdown",
   "id": "1019f91c",
   "metadata": {},
   "source": [
    "### Clusters by algorithm"
   ]
  },
  {
   "cell_type": "code",
   "execution_count": null,
   "id": "c5516871",
   "metadata": {},
   "outputs": [],
   "source": [
    "clusters = utils.extract_class_sequences(S, clusters)\n",
    "utils.plot_clusters(clusters, centroids)"
   ]
  },
  {
   "cell_type": "markdown",
   "id": "6b7096ec",
   "metadata": {},
   "source": [
    "### Classes by dataset"
   ]
  },
  {
   "cell_type": "code",
   "execution_count": null,
   "id": "16c53414",
   "metadata": {},
   "outputs": [],
   "source": [
    "# Perform DBA on classes, as specified in dataset\n",
    "\n",
    "c_means = []\n",
    "c_sequences = []\n",
    "for class_indices in classes:\n",
    "    # extract class sequences from entire set\n",
    "    c_S = np.take(S, class_indices, axis=0)\n",
    "    mean = dba.dba_mean(c_S)\n",
    "    c_means.append(mean)\n",
    "    c_sequences.append(c_S)"
   ]
  },
  {
   "cell_type": "code",
   "execution_count": null,
   "id": "5b83c98a",
   "metadata": {},
   "outputs": [],
   "source": [
    "utils.plot_clusters(c_sequences, c_means)"
   ]
  }
 ],
 "metadata": {
  "kernelspec": {
   "display_name": "Python 3.8.9 64-bit",
   "language": "python",
   "name": "python3"
  },
  "language_info": {
   "codemirror_mode": {
    "name": "ipython",
    "version": 3
   },
   "file_extension": ".py",
   "mimetype": "text/x-python",
   "name": "python",
   "nbconvert_exporter": "python",
   "pygments_lexer": "ipython3",
   "version": "3.8.9"
  },
  "vscode": {
   "interpreter": {
    "hash": "31f2aee4e71d21fbe5cf8b01ff0e069b9275f58929596ceb00d14d90e3e16cd6"
   }
  }
 },
 "nbformat": 4,
 "nbformat_minor": 5
}
